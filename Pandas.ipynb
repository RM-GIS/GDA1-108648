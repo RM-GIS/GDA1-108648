{
 "cells": [
  {
   "cell_type": "markdown",
   "id": "0aafb434-3369-45e9-a457-51a68ff54ccf",
   "metadata": {},
   "source": [
    "# Introduction to Pandas DataFrames\n",
    "![Pandas](Pandas.webp)\n",
    "\n",
    "[Pandas](https://pandas.pydata.org/) is a powerful and versatile library for Python, designed primarily for data manipulation and analysis.\n",
    "\n",
    "> Pandas is the most popular software library for data manipulation and data analysis for the Python programming language. ([www.nvidia.com](https://www.nvidia.com/en-us/glossary/pandas-python/))"
   ]
  },
  {
   "cell_type": "markdown",
   "id": "f5da0ead-7ea8-4c1a-bab2-14486c49b2f0",
   "metadata": {},
   "source": [
    "## Key Functionalities of Pandas\n",
    "\n",
    "1. **Data Structures**\n",
    "   - *Series*: One-dimensional labeled array capable of holding data of any type.\n",
    "   - *DataFrame*: Two-dimensional, size-mutable, potentially heterogeneous tabular data structure with labeled axes.\n",
    "\n",
    "2. **Data Manipulation**\n",
    "   - *Data Selection and Indexing*: `.loc`, `.iloc`, `.at`, `.iat`\n",
    "   - *Filtering*: Based on conditions\n",
    "   - *Sorting*: By labels or values\n",
    "   - *Handling Missing Data*: `isnull`, `dropna`, `fillna`\n",
    "\n",
    "3. **Data Cleaning**\n",
    "   - *Dropping Duplicates*\n",
    "   - *Replacing Values*\n",
    "   - *String Operations*: `str.split`, `str.replace`\n",
    "\n",
    "4. **Aggregation and Grouping**\n",
    "   - *Group By*: `groupby()`\n",
    "   - *Pivot Tables*\n",
    "\n",
    "5. **Merging and Joining**\n",
    "   - *Concatenation*\n",
    "   - *Merging*: `merge()`, `join()`\n",
    "\n",
    "6. **Time Series**\n",
    "   - *Datetime Conversion*\n",
    "   - *Resampling*\n",
    "   - *Time-based Indexing*\n",
    "\n",
    "7. **Statistical and Mathematical Operations**\n",
    "   - *Descriptive Statistics*\n",
    "   - *Correlation / Covariance*\n",
    "   - *Cumulative Operations*"
   ]
  },
  {
   "cell_type": "markdown",
   "id": "70a3b6c4-0b57-4549-9b1a-0072c21091eb",
   "metadata": {},
   "source": [
    "## What is a DataFrame?\n",
    "\n",
    "A DataFrame is a table-like structure in Pandas that consists of rows and columns, where each column can hold different data types. It can be thought of as a collection of Series objects.\n"
   ]
  },
  {
   "cell_type": "markdown",
   "id": "0cfea487-f1f4-46d0-abbd-8f80c2fc9e85",
   "metadata": {},
   "source": [
    "## Creating a DataFrame\n",
    "\n",
    "There are several ways to create a DataFrame in Pandas, such as:\n",
    "\n",
    "1. From a Dictionary\n",
    "2. From a List of Lists\n",
    "3. From a CSV File\n",
    "\n",
    "Below are examples of the first two approaches.\n"
   ]
  },
  {
   "cell_type": "code",
   "execution_count": 1,
   "id": "8a13f96f-c7d9-47f5-a5a3-af3c99e65253",
   "metadata": {},
   "outputs": [
    {
     "data": {
      "text/html": [
       "<div>\n",
       "<style scoped>\n",
       "    .dataframe tbody tr th:only-of-type {\n",
       "        vertical-align: middle;\n",
       "    }\n",
       "\n",
       "    .dataframe tbody tr th {\n",
       "        vertical-align: top;\n",
       "    }\n",
       "\n",
       "    .dataframe thead th {\n",
       "        text-align: right;\n",
       "    }\n",
       "</style>\n",
       "<table border=\"1\" class=\"dataframe\">\n",
       "  <thead>\n",
       "    <tr style=\"text-align: right;\">\n",
       "      <th></th>\n",
       "      <th>Name</th>\n",
       "      <th>Age</th>\n",
       "      <th>City</th>\n",
       "    </tr>\n",
       "  </thead>\n",
       "  <tbody>\n",
       "    <tr>\n",
       "      <th>0</th>\n",
       "      <td>Alice</td>\n",
       "      <td>25</td>\n",
       "      <td>New York</td>\n",
       "    </tr>\n",
       "    <tr>\n",
       "      <th>1</th>\n",
       "      <td>Bob</td>\n",
       "      <td>30</td>\n",
       "      <td>Los Angeles</td>\n",
       "    </tr>\n",
       "    <tr>\n",
       "      <th>2</th>\n",
       "      <td>Charlie</td>\n",
       "      <td>35</td>\n",
       "      <td>Chicago</td>\n",
       "    </tr>\n",
       "  </tbody>\n",
       "</table>\n",
       "</div>"
      ],
      "text/plain": [
       "      Name  Age         City\n",
       "0    Alice   25     New York\n",
       "1      Bob   30  Los Angeles\n",
       "2  Charlie   35      Chicago"
      ]
     },
     "execution_count": 1,
     "metadata": {},
     "output_type": "execute_result"
    }
   ],
   "source": [
    "import pandas as pd\n",
    "\n",
    "data = {\n",
    "    'Name': ['Alice', 'Bob', 'Charlie'],\n",
    "    'Age': [25, 30, 35],\n",
    "    'City': ['New York', 'Los Angeles', 'Chicago']\n",
    "}\n",
    "\n",
    "df = pd.DataFrame(data)\n",
    "df"
   ]
  },
  {
   "cell_type": "code",
   "execution_count": 2,
   "id": "c7446159-40ff-4694-9b43-600069db99c3",
   "metadata": {},
   "outputs": [
    {
     "data": {
      "text/html": [
       "<div>\n",
       "<style scoped>\n",
       "    .dataframe tbody tr th:only-of-type {\n",
       "        vertical-align: middle;\n",
       "    }\n",
       "\n",
       "    .dataframe tbody tr th {\n",
       "        vertical-align: top;\n",
       "    }\n",
       "\n",
       "    .dataframe thead th {\n",
       "        text-align: right;\n",
       "    }\n",
       "</style>\n",
       "<table border=\"1\" class=\"dataframe\">\n",
       "  <thead>\n",
       "    <tr style=\"text-align: right;\">\n",
       "      <th></th>\n",
       "      <th>Name</th>\n",
       "      <th>Age</th>\n",
       "      <th>City</th>\n",
       "    </tr>\n",
       "  </thead>\n",
       "  <tbody>\n",
       "    <tr>\n",
       "      <th>0</th>\n",
       "      <td>Alice</td>\n",
       "      <td>25</td>\n",
       "      <td>New York</td>\n",
       "    </tr>\n",
       "    <tr>\n",
       "      <th>1</th>\n",
       "      <td>Bob</td>\n",
       "      <td>30</td>\n",
       "      <td>Los Angeles</td>\n",
       "    </tr>\n",
       "    <tr>\n",
       "      <th>2</th>\n",
       "      <td>Charlie</td>\n",
       "      <td>35</td>\n",
       "      <td>Chicago</td>\n",
       "    </tr>\n",
       "  </tbody>\n",
       "</table>\n",
       "</div>"
      ],
      "text/plain": [
       "      Name  Age         City\n",
       "0    Alice   25     New York\n",
       "1      Bob   30  Los Angeles\n",
       "2  Charlie   35      Chicago"
      ]
     },
     "execution_count": 2,
     "metadata": {},
     "output_type": "execute_result"
    }
   ],
   "source": [
    "data = [\n",
    "    ['Alice', 25, 'New York'],\n",
    "    ['Bob', 30, 'Los Angeles'],\n",
    "    ['Charlie', 35, 'Chicago']\n",
    "]\n",
    "\n",
    "df = pd.DataFrame(data, columns=['Name', 'Age', 'City'])\n",
    "df"
   ]
  },
  {
   "cell_type": "markdown",
   "id": "67166930-0598-4e07-8233-c69081d64844",
   "metadata": {},
   "source": [
    "## Accessing Data in a DataFrame\n",
    "\n",
    "You can access DataFrame content in several ways:\n"
   ]
  },
  {
   "cell_type": "code",
   "execution_count": 3,
   "id": "280e11ec-03f2-4987-ab96-01084fead150",
   "metadata": {},
   "outputs": [
    {
     "data": {
      "text/plain": [
       "0      Alice\n",
       "1        Bob\n",
       "2    Charlie\n",
       "Name: Name, dtype: object"
      ]
     },
     "execution_count": 3,
     "metadata": {},
     "output_type": "execute_result"
    }
   ],
   "source": [
    "df['Name']"
   ]
  },
  {
   "cell_type": "code",
   "execution_count": 4,
   "id": "553a815d-e36e-4742-a747-3a941a093de6",
   "metadata": {},
   "outputs": [
    {
     "data": {
      "text/plain": [
       "Name       Alice\n",
       "Age           25\n",
       "City    New York\n",
       "Name: 0, dtype: object"
      ]
     },
     "execution_count": 4,
     "metadata": {},
     "output_type": "execute_result"
    }
   ],
   "source": [
    "df.iloc[0]"
   ]
  },
  {
   "cell_type": "code",
   "execution_count": 5,
   "id": "a83af6ca-f079-49a9-90f8-ccd3284d3250",
   "metadata": {},
   "outputs": [
    {
     "data": {
      "text/plain": [
       "'Alice'"
      ]
     },
     "execution_count": 5,
     "metadata": {},
     "output_type": "execute_result"
    }
   ],
   "source": [
    "df.loc[0, 'Name']"
   ]
  },
  {
   "cell_type": "code",
   "execution_count": null,
   "id": "a2a261fe-1955-4748-a2c8-aa32c0c72809",
   "metadata": {},
   "outputs": [],
   "source": []
  }
 ],
 "metadata": {
  "kernelspec": {
   "display_name": "Python 3 (ipykernel)",
   "language": "python",
   "name": "python3"
  },
  "language_info": {
   "codemirror_mode": {
    "name": "ipython",
    "version": 3
   },
   "file_extension": ".py",
   "mimetype": "text/x-python",
   "name": "python",
   "nbconvert_exporter": "python",
   "pygments_lexer": "ipython3",
   "version": "3.12.7"
  }
 },
 "nbformat": 4,
 "nbformat_minor": 5
}
